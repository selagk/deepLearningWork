{
 "cells": [
  {
   "cell_type": "markdown",
   "id": "8475d034",
   "metadata": {},
   "source": [
    "# Deep Learning Mid Term Basics"
   ]
  },
  {
   "cell_type": "markdown",
   "id": "f3ec62d2",
   "metadata": {},
   "source": [
    "##### -Sela Koshy"
   ]
  },
  {
   "cell_type": "markdown",
   "id": "8fe574f3",
   "metadata": {},
   "source": [
    "0. Add required packages"
   ]
  },
  {
   "cell_type": "code",
   "execution_count": 1,
   "id": "dbdc4723",
   "metadata": {},
   "outputs": [],
   "source": [
    "import numpy as np\n",
    "import pandas as pd\n",
    "from sklearn.model_selection import train_test_split\n",
    "from sklearn.preprocessing import StandardScaler\n",
    "from sklearn.metrics import accuracy_score\n",
    "import tensorflow as tf\n",
    "from tensorflow.keras.models import Sequential\n",
    "from tensorflow.keras.layers import Dense, Dropout\n",
    "from tensorflow.keras.callbacks import EarlyStopping\n",
    "from tensorflow.keras import regularizers"
   ]
  },
  {
   "cell_type": "markdown",
   "id": "68b29f25",
   "metadata": {},
   "source": [
    "1. Load data, split data"
   ]
  },
  {
   "cell_type": "code",
   "execution_count": 2,
   "id": "1bb80e15",
   "metadata": {},
   "outputs": [],
   "source": [
    "heart_data = pd.read_csv('heart.csv')\n",
    "x = heart_data.drop('output', axis=1)\n",
    "y = heart_data['output']"
   ]
  },
  {
   "cell_type": "markdown",
   "id": "20417596",
   "metadata": {},
   "source": [
    "a. Create test set for classification task"
   ]
  },
  {
   "cell_type": "code",
   "execution_count": 3,
   "id": "267cdfe5",
   "metadata": {},
   "outputs": [],
   "source": [
    "train_x, test_x, train_y, test_y = train_test_split(x, y, test_size=0.2, random_state=42, stratify=y)"
   ]
  },
  {
   "cell_type": "markdown",
   "id": "14c9fc04",
   "metadata": {},
   "source": [
    "2. Preprocess the data"
   ]
  },
  {
   "cell_type": "code",
   "execution_count": 4,
   "id": "31684659",
   "metadata": {},
   "outputs": [],
   "source": [
    "scaler = StandardScaler()\n",
    "train_x = scaler.fit_transform(train_x)\n",
    "test_x = scaler.transform(test_x)"
   ]
  },
  {
   "cell_type": "markdown",
   "id": "f0fee682",
   "metadata": {},
   "source": [
    "3. Defined the model architecture"
   ]
  },
  {
   "cell_type": "code",
   "execution_count": 5,
   "id": "7a07a5f5",
   "metadata": {},
   "outputs": [],
   "source": [
    "model = Sequential()\n",
    "model.add(Dense(32, activation='relu', kernel_initializer='he_uniform', input_shape=(train_x.shape[1],)))\n",
    "model.add(Dense(16, activation='relu', kernel_initializer='he_uniform'))\n",
    "model.add(Dropout(0.2))\n",
    "model.add(Dense(1, activation='sigmoid'))"
   ]
  },
  {
   "cell_type": "markdown",
   "id": "c01cb760",
   "metadata": {},
   "source": [
    "4. Compile model, then train model"
   ]
  },
  {
   "cell_type": "code",
   "execution_count": 6,
   "id": "1ecee248",
   "metadata": {},
   "outputs": [
    {
     "name": "stdout",
     "output_type": "stream",
     "text": [
      "Epoch 1/100\n",
      "8/8 [==============================] - 2s 42ms/step - loss: 1.0722 - accuracy: 0.4380 - val_loss: 0.9089 - val_accuracy: 0.4918\n",
      "Epoch 2/100\n",
      "8/8 [==============================] - 0s 14ms/step - loss: 0.8891 - accuracy: 0.4793 - val_loss: 0.8053 - val_accuracy: 0.5246\n",
      "Epoch 3/100\n",
      "8/8 [==============================] - 0s 16ms/step - loss: 0.8065 - accuracy: 0.5207 - val_loss: 0.7316 - val_accuracy: 0.5410\n",
      "Epoch 4/100\n",
      "8/8 [==============================] - 0s 14ms/step - loss: 0.7149 - accuracy: 0.5537 - val_loss: 0.6792 - val_accuracy: 0.5738\n",
      "Epoch 5/100\n",
      "8/8 [==============================] - 0s 17ms/step - loss: 0.6444 - accuracy: 0.6157 - val_loss: 0.6428 - val_accuracy: 0.6230\n",
      "Epoch 6/100\n",
      "8/8 [==============================] - 0s 14ms/step - loss: 0.6253 - accuracy: 0.6818 - val_loss: 0.6156 - val_accuracy: 0.7049\n",
      "Epoch 7/100\n",
      "8/8 [==============================] - 0s 9ms/step - loss: 0.6135 - accuracy: 0.6405 - val_loss: 0.5946 - val_accuracy: 0.7213\n",
      "Epoch 8/100\n",
      "8/8 [==============================] - 0s 8ms/step - loss: 0.5461 - accuracy: 0.7355 - val_loss: 0.5788 - val_accuracy: 0.7049\n",
      "Epoch 9/100\n",
      "8/8 [==============================] - 0s 9ms/step - loss: 0.5382 - accuracy: 0.7314 - val_loss: 0.5672 - val_accuracy: 0.7049\n",
      "Epoch 10/100\n",
      "8/8 [==============================] - 0s 14ms/step - loss: 0.5041 - accuracy: 0.7521 - val_loss: 0.5566 - val_accuracy: 0.7049\n",
      "Epoch 11/100\n",
      "8/8 [==============================] - 0s 14ms/step - loss: 0.4994 - accuracy: 0.7727 - val_loss: 0.5457 - val_accuracy: 0.7705\n",
      "Epoch 12/100\n",
      "8/8 [==============================] - 0s 11ms/step - loss: 0.4968 - accuracy: 0.7686 - val_loss: 0.5367 - val_accuracy: 0.7705\n",
      "Epoch 13/100\n",
      "8/8 [==============================] - 0s 13ms/step - loss: 0.4522 - accuracy: 0.7810 - val_loss: 0.5275 - val_accuracy: 0.7705\n",
      "Epoch 14/100\n",
      "8/8 [==============================] - 0s 15ms/step - loss: 0.4946 - accuracy: 0.7562 - val_loss: 0.5204 - val_accuracy: 0.7705\n",
      "Epoch 15/100\n",
      "8/8 [==============================] - 0s 10ms/step - loss: 0.4257 - accuracy: 0.7769 - val_loss: 0.5142 - val_accuracy: 0.7705\n",
      "Epoch 16/100\n",
      "8/8 [==============================] - 0s 10ms/step - loss: 0.4578 - accuracy: 0.7645 - val_loss: 0.5092 - val_accuracy: 0.7705\n",
      "Epoch 17/100\n",
      "8/8 [==============================] - 0s 9ms/step - loss: 0.4230 - accuracy: 0.7851 - val_loss: 0.5077 - val_accuracy: 0.7705\n",
      "Epoch 18/100\n",
      "8/8 [==============================] - 0s 15ms/step - loss: 0.4035 - accuracy: 0.8099 - val_loss: 0.5052 - val_accuracy: 0.7705\n",
      "Epoch 19/100\n",
      "8/8 [==============================] - 0s 16ms/step - loss: 0.4066 - accuracy: 0.8223 - val_loss: 0.5017 - val_accuracy: 0.7705\n",
      "Epoch 20/100\n",
      "8/8 [==============================] - 0s 12ms/step - loss: 0.4012 - accuracy: 0.8388 - val_loss: 0.4997 - val_accuracy: 0.7705\n",
      "Epoch 21/100\n",
      "8/8 [==============================] - 0s 12ms/step - loss: 0.3986 - accuracy: 0.8223 - val_loss: 0.5003 - val_accuracy: 0.7869\n",
      "Epoch 22/100\n",
      "8/8 [==============================] - 0s 10ms/step - loss: 0.3936 - accuracy: 0.8058 - val_loss: 0.4966 - val_accuracy: 0.7869\n",
      "Epoch 23/100\n",
      "8/8 [==============================] - 0s 15ms/step - loss: 0.3926 - accuracy: 0.8017 - val_loss: 0.4957 - val_accuracy: 0.7869\n",
      "Epoch 24/100\n",
      "8/8 [==============================] - 0s 13ms/step - loss: 0.4035 - accuracy: 0.7934 - val_loss: 0.4965 - val_accuracy: 0.7541\n",
      "Epoch 25/100\n",
      "8/8 [==============================] - 0s 11ms/step - loss: 0.4089 - accuracy: 0.8017 - val_loss: 0.4968 - val_accuracy: 0.7541\n",
      "Epoch 26/100\n",
      "8/8 [==============================] - 0s 14ms/step - loss: 0.3477 - accuracy: 0.8430 - val_loss: 0.4967 - val_accuracy: 0.7541\n",
      "Epoch 27/100\n",
      "8/8 [==============================] - 0s 12ms/step - loss: 0.3718 - accuracy: 0.8512 - val_loss: 0.4971 - val_accuracy: 0.7541\n",
      "Epoch 28/100\n",
      "8/8 [==============================] - 0s 18ms/step - loss: 0.3551 - accuracy: 0.8140 - val_loss: 0.4958 - val_accuracy: 0.7541\n"
     ]
    }
   ],
   "source": [
    "model.compile(loss='binary_crossentropy', optimizer='adam', metrics=['accuracy'])\n",
    "\n",
    "early_stopping = EarlyStopping(patience=5, restore_best_weights=True)\n",
    "\n",
    "history = model.fit(train_x, train_y, validation_data=(test_x, test_y), batch_size=32, epochs=100, callbacks=[early_stopping])"
   ]
  },
  {
   "cell_type": "markdown",
   "id": "9e186514",
   "metadata": {},
   "source": [
    "5. Evaluate the model"
   ]
  },
  {
   "cell_type": "code",
   "execution_count": 7,
   "id": "45f823d3",
   "metadata": {},
   "outputs": [
    {
     "name": "stdout",
     "output_type": "stream",
     "text": [
      "2/2 [==============================] - 0s 6ms/step - loss: 0.4957 - accuracy: 0.7869\n",
      "Accuracy: 0.7868852615356445\n"
     ]
    }
   ],
   "source": [
    "# Step 5: Evaluate the model\n",
    "_, accuracy = model.evaluate(test_x, test_y)\n",
    "print('Accuracy:', accuracy)"
   ]
  },
  {
   "cell_type": "markdown",
   "id": "7ca0c2d8",
   "metadata": {},
   "source": [
    "6. Save model"
   ]
  },
  {
   "cell_type": "code",
   "execution_count": 8,
   "id": "3c32c6cc",
   "metadata": {},
   "outputs": [],
   "source": [
    "model.save('heart_model_class.h5')"
   ]
  },
  {
   "cell_type": "markdown",
   "id": "bdd0ad4a",
   "metadata": {},
   "source": [
    "###### -x-x-x-x-x-x-"
   ]
  },
  {
   "cell_type": "markdown",
   "id": "4f216142",
   "metadata": {},
   "source": [
    "b. Create test set for regression task:"
   ]
  },
  {
   "cell_type": "code",
   "execution_count": 9,
   "id": "2cc08786",
   "metadata": {},
   "outputs": [],
   "source": [
    "train_x, test_x, train_y, test_y = train_test_split(x, y, test_size=0.2, random_state=42)"
   ]
  },
  {
   "cell_type": "markdown",
   "id": "4ce6a14b",
   "metadata": {},
   "source": [
    "2. Preprocess the data"
   ]
  },
  {
   "cell_type": "code",
   "execution_count": 10,
   "id": "d7dbbdc9",
   "metadata": {},
   "outputs": [],
   "source": [
    "scaler = StandardScaler()\n",
    "train_x = scaler.fit_transform(train_x)\n",
    "test_x = scaler.transform(test_x)"
   ]
  },
  {
   "cell_type": "markdown",
   "id": "4f368382",
   "metadata": {},
   "source": [
    "3. Defined the model architecture"
   ]
  },
  {
   "cell_type": "code",
   "execution_count": 11,
   "id": "2913b78e",
   "metadata": {},
   "outputs": [],
   "source": [
    "model = Sequential()\n",
    "model.add(Dense(32, activation='relu', kernel_initializer='he_uniform', input_shape=(train_x.shape[1],)))\n",
    "model.add(Dense(16, activation='relu', kernel_initializer='he_uniform'))\n",
    "model.add(Dropout(0.2))\n",
    "model.add(Dense(1, activation='sigmoid'))"
   ]
  },
  {
   "cell_type": "markdown",
   "id": "c1f61aa2",
   "metadata": {},
   "source": [
    "4. Compile model, then train model"
   ]
  },
  {
   "cell_type": "code",
   "execution_count": 12,
   "id": "0a218da4",
   "metadata": {},
   "outputs": [
    {
     "name": "stdout",
     "output_type": "stream",
     "text": [
      "Epoch 1/100\n",
      "8/8 [==============================] - 2s 50ms/step - loss: 0.7290 - accuracy: 0.6157 - val_loss: 0.5881 - val_accuracy: 0.7049\n",
      "Epoch 2/100\n",
      "8/8 [==============================] - 0s 9ms/step - loss: 0.6566 - accuracy: 0.6405 - val_loss: 0.5411 - val_accuracy: 0.7213\n",
      "Epoch 3/100\n",
      "8/8 [==============================] - 0s 9ms/step - loss: 0.6303 - accuracy: 0.6405 - val_loss: 0.5047 - val_accuracy: 0.7377\n",
      "Epoch 4/100\n",
      "8/8 [==============================] - 0s 7ms/step - loss: 0.5453 - accuracy: 0.7190 - val_loss: 0.4728 - val_accuracy: 0.7869\n",
      "Epoch 5/100\n",
      "8/8 [==============================] - 0s 9ms/step - loss: 0.5032 - accuracy: 0.7645 - val_loss: 0.4472 - val_accuracy: 0.8197\n",
      "Epoch 6/100\n",
      "8/8 [==============================] - 0s 16ms/step - loss: 0.5167 - accuracy: 0.7769 - val_loss: 0.4280 - val_accuracy: 0.8361\n",
      "Epoch 7/100\n",
      "8/8 [==============================] - 0s 11ms/step - loss: 0.5023 - accuracy: 0.7686 - val_loss: 0.4125 - val_accuracy: 0.8525\n",
      "Epoch 8/100\n",
      "8/8 [==============================] - 0s 10ms/step - loss: 0.5117 - accuracy: 0.7686 - val_loss: 0.4009 - val_accuracy: 0.8525\n",
      "Epoch 9/100\n",
      "8/8 [==============================] - 0s 9ms/step - loss: 0.4425 - accuracy: 0.7893 - val_loss: 0.3895 - val_accuracy: 0.8689\n",
      "Epoch 10/100\n",
      "8/8 [==============================] - 0s 8ms/step - loss: 0.4154 - accuracy: 0.8058 - val_loss: 0.3782 - val_accuracy: 0.8689\n",
      "Epoch 11/100\n",
      "8/8 [==============================] - 0s 15ms/step - loss: 0.4381 - accuracy: 0.8058 - val_loss: 0.3695 - val_accuracy: 0.8689\n",
      "Epoch 12/100\n",
      "8/8 [==============================] - 0s 13ms/step - loss: 0.4072 - accuracy: 0.7975 - val_loss: 0.3612 - val_accuracy: 0.8689\n",
      "Epoch 13/100\n",
      "8/8 [==============================] - 0s 10ms/step - loss: 0.4399 - accuracy: 0.7851 - val_loss: 0.3561 - val_accuracy: 0.8689\n",
      "Epoch 14/100\n",
      "8/8 [==============================] - 0s 10ms/step - loss: 0.3933 - accuracy: 0.8223 - val_loss: 0.3518 - val_accuracy: 0.8689\n",
      "Epoch 15/100\n",
      "8/8 [==============================] - 0s 10ms/step - loss: 0.3969 - accuracy: 0.8554 - val_loss: 0.3475 - val_accuracy: 0.8689\n",
      "Epoch 16/100\n",
      "8/8 [==============================] - 0s 16ms/step - loss: 0.3892 - accuracy: 0.8388 - val_loss: 0.3435 - val_accuracy: 0.8689\n",
      "Epoch 17/100\n",
      "8/8 [==============================] - 0s 11ms/step - loss: 0.4111 - accuracy: 0.8017 - val_loss: 0.3398 - val_accuracy: 0.8689\n",
      "Epoch 18/100\n",
      "8/8 [==============================] - 0s 10ms/step - loss: 0.3784 - accuracy: 0.8388 - val_loss: 0.3376 - val_accuracy: 0.8689\n",
      "Epoch 19/100\n",
      "8/8 [==============================] - 0s 9ms/step - loss: 0.3760 - accuracy: 0.8223 - val_loss: 0.3348 - val_accuracy: 0.8689\n",
      "Epoch 20/100\n",
      "8/8 [==============================] - 0s 14ms/step - loss: 0.3731 - accuracy: 0.8264 - val_loss: 0.3330 - val_accuracy: 0.8689\n",
      "Epoch 21/100\n",
      "8/8 [==============================] - 0s 12ms/step - loss: 0.3741 - accuracy: 0.8223 - val_loss: 0.3312 - val_accuracy: 0.8689\n",
      "Epoch 22/100\n",
      "8/8 [==============================] - 0s 10ms/step - loss: 0.3530 - accuracy: 0.8471 - val_loss: 0.3274 - val_accuracy: 0.8689\n",
      "Epoch 23/100\n",
      "8/8 [==============================] - 0s 9ms/step - loss: 0.3840 - accuracy: 0.8017 - val_loss: 0.3239 - val_accuracy: 0.8689\n",
      "Epoch 24/100\n",
      "8/8 [==============================] - 0s 13ms/step - loss: 0.3755 - accuracy: 0.8306 - val_loss: 0.3209 - val_accuracy: 0.8689\n",
      "Epoch 25/100\n",
      "8/8 [==============================] - 0s 13ms/step - loss: 0.3356 - accuracy: 0.8595 - val_loss: 0.3198 - val_accuracy: 0.8689\n",
      "Epoch 26/100\n",
      "8/8 [==============================] - 0s 14ms/step - loss: 0.3408 - accuracy: 0.8471 - val_loss: 0.3172 - val_accuracy: 0.8689\n",
      "Epoch 27/100\n",
      "8/8 [==============================] - 0s 9ms/step - loss: 0.3402 - accuracy: 0.8595 - val_loss: 0.3176 - val_accuracy: 0.8689\n",
      "Epoch 28/100\n",
      "8/8 [==============================] - 0s 13ms/step - loss: 0.3469 - accuracy: 0.8223 - val_loss: 0.3180 - val_accuracy: 0.8689\n",
      "Epoch 29/100\n",
      "8/8 [==============================] - 0s 15ms/step - loss: 0.3271 - accuracy: 0.8595 - val_loss: 0.3164 - val_accuracy: 0.8689\n",
      "Epoch 30/100\n",
      "8/8 [==============================] - 0s 15ms/step - loss: 0.3332 - accuracy: 0.8719 - val_loss: 0.3144 - val_accuracy: 0.8852\n",
      "Epoch 31/100\n",
      "8/8 [==============================] - 0s 16ms/step - loss: 0.3439 - accuracy: 0.8554 - val_loss: 0.3142 - val_accuracy: 0.8852\n",
      "Epoch 32/100\n",
      "8/8 [==============================] - 0s 17ms/step - loss: 0.3255 - accuracy: 0.8678 - val_loss: 0.3152 - val_accuracy: 0.8852\n",
      "Epoch 33/100\n",
      "8/8 [==============================] - 0s 15ms/step - loss: 0.3272 - accuracy: 0.8678 - val_loss: 0.3177 - val_accuracy: 0.8852\n",
      "Epoch 34/100\n",
      "8/8 [==============================] - 0s 17ms/step - loss: 0.3213 - accuracy: 0.8719 - val_loss: 0.3222 - val_accuracy: 0.8689\n",
      "Epoch 35/100\n",
      "8/8 [==============================] - 0s 16ms/step - loss: 0.3444 - accuracy: 0.8430 - val_loss: 0.3238 - val_accuracy: 0.8689\n",
      "Epoch 36/100\n",
      "8/8 [==============================] - 0s 13ms/step - loss: 0.3072 - accuracy: 0.8843 - val_loss: 0.3232 - val_accuracy: 0.8689\n"
     ]
    }
   ],
   "source": [
    "model.compile(loss='binary_crossentropy', optimizer='adam', metrics=['accuracy'])\n",
    "\n",
    "early_stopping = EarlyStopping(patience=5, restore_best_weights=True)\n",
    "\n",
    "history = model.fit(train_x, train_y, validation_data=(test_x, test_y), batch_size=32, epochs=100, callbacks=[early_stopping])"
   ]
  },
  {
   "cell_type": "markdown",
   "id": "490b5e5f",
   "metadata": {},
   "source": [
    "5. Evaluate the model"
   ]
  },
  {
   "cell_type": "code",
   "execution_count": 13,
   "id": "11261c86",
   "metadata": {},
   "outputs": [
    {
     "name": "stdout",
     "output_type": "stream",
     "text": [
      "2/2 [==============================] - 0s 6ms/step - loss: 0.3142 - accuracy: 0.8852\n",
      "Accuracy: 0.8852459192276001\n"
     ]
    }
   ],
   "source": [
    "# Step 5: Evaluate the model\n",
    "_, accuracy = model.evaluate(test_x, test_y)\n",
    "print('Accuracy:', accuracy)"
   ]
  },
  {
   "cell_type": "markdown",
   "id": "bf632e2e",
   "metadata": {},
   "source": [
    "6. Save model"
   ]
  },
  {
   "cell_type": "code",
   "execution_count": 14,
   "id": "2d556607",
   "metadata": {},
   "outputs": [],
   "source": [
    "model.save('heart_model_reg.h5')"
   ]
  },
  {
   "cell_type": "markdown",
   "id": "5c372597",
   "metadata": {},
   "source": []
  }
 ],
 "metadata": {
  "kernelspec": {
   "display_name": "Python 3 (ipykernel)",
   "language": "python",
   "name": "python3"
  },
  "language_info": {
   "codemirror_mode": {
    "name": "ipython",
    "version": 3
   },
   "file_extension": ".py",
   "mimetype": "text/x-python",
   "name": "python",
   "nbconvert_exporter": "python",
   "pygments_lexer": "ipython3",
   "version": "3.10.9"
  }
 },
 "nbformat": 4,
 "nbformat_minor": 5
}
