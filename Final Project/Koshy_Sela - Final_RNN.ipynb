{
 "cells": [
  {
   "cell_type": "markdown",
   "id": "a1a3821e",
   "metadata": {},
   "source": [
    "# Deep Learning Final - RNN"
   ]
  },
  {
   "cell_type": "markdown",
   "id": "e995749a",
   "metadata": {},
   "source": [
    "##### -Sela Koshy"
   ]
  },
  {
   "cell_type": "markdown",
   "id": "dcb234e5",
   "metadata": {},
   "source": [
    "0. Add required packages"
   ]
  },
  {
   "cell_type": "code",
   "execution_count": 1,
   "id": "3ec50c01",
   "metadata": {},
   "outputs": [],
   "source": [
    "import numpy as np\n",
    "import pandas as pd\n",
    "from sklearn.model_selection import train_test_split\n",
    "from sklearn.preprocessing import MinMaxScaler\n",
    "import tensorflow as tf\n",
    "from tensorflow.keras.models import Sequential\n",
    "from tensorflow.keras.layers import Dense, SimpleRNN\n",
    "from tensorflow.keras.callbacks import EarlyStopping, ModelCheckpoint\n"
   ]
  },
  {
   "cell_type": "markdown",
   "id": "f174c84a",
   "metadata": {},
   "source": [
    "1.0 Load and process the dataset"
   ]
  },
  {
   "cell_type": "code",
   "execution_count": 2,
   "id": "735ac382",
   "metadata": {},
   "outputs": [],
   "source": [
    "data = pd.read_csv('Global_Temperatures.csv')\n",
    "\n",
    "data['dt'] = pd.to_datetime(data['dt'])\n",
    "data['year'] = data['dt'].dt.year\n",
    "data['month'] = data['dt'].dt.month\n",
    "data = data[['year', 'month', 'LandAverageTemperature']].copy()"
   ]
  },
  {
   "cell_type": "markdown",
   "id": "224575d9",
   "metadata": {},
   "source": [
    "1.1 Create training, validation and test sets"
   ]
  },
  {
   "cell_type": "code",
   "execution_count": 3,
   "id": "f3cfc0b5",
   "metadata": {},
   "outputs": [],
   "source": [
    "train_data, test_data = train_test_split(data, test_size=0.2, shuffle=False)\n",
    "train_data, val_data = train_test_split(train_data, test_size=0.2, shuffle=False)"
   ]
  },
  {
   "cell_type": "markdown",
   "id": "4f44d33a",
   "metadata": {},
   "source": [
    "1.2 Separate the features, and make target variables"
   ]
  },
  {
   "cell_type": "code",
   "execution_count": 4,
   "id": "d2d162a5",
   "metadata": {},
   "outputs": [],
   "source": [
    "X_train = train_data[['year', 'month']].values\n",
    "y_train = train_data['LandAverageTemperature'].values\n",
    "X_val = val_data[['year', 'month']].values\n",
    "y_val = val_data['LandAverageTemperature'].values\n",
    "X_test = test_data[['year', 'month']].values\n",
    "y_test = test_data['LandAverageTemperature'].values\n",
    "\n",
    "\n",
    "X_train = X_train.reshape((-1, 1, 2))\n",
    "X_val = X_val.reshape((-1, 1, 2))\n",
    "X_test = X_test.reshape((-1, 1, 2))"
   ]
  },
  {
   "cell_type": "markdown",
   "id": "96610e84",
   "metadata": {},
   "source": [
    "2. Define model architecture"
   ]
  },
  {
   "cell_type": "code",
   "execution_count": 5,
   "id": "f21624f1",
   "metadata": {},
   "outputs": [],
   "source": [
    "model = Sequential()\n",
    "model.add(SimpleRNN(units=64, activation='tanh', input_shape=(1, 2)))\n",
    "model.add(Dense(units=1))"
   ]
  },
  {
   "cell_type": "markdown",
   "id": "2f781807",
   "metadata": {},
   "source": [
    "3. Compile model, then train model"
   ]
  },
  {
   "cell_type": "code",
   "execution_count": 6,
   "id": "a5c15237",
   "metadata": {},
   "outputs": [
    {
     "name": "stdout",
     "output_type": "stream",
     "text": [
      "Epoch 1/100\n",
      "64/64 [==============================] - 3s 17ms/step - loss: 64.1927 - val_loss: 44.5706\n",
      "Epoch 2/100\n",
      "64/64 [==============================] - 0s 7ms/step - loss: 31.4966 - val_loss: 24.4098\n",
      "Epoch 3/100\n",
      "64/64 [==============================] - 0s 4ms/step - loss: 21.9676 - val_loss: 19.1822\n",
      "Epoch 4/100\n",
      "64/64 [==============================] - 0s 4ms/step - loss: 20.1593 - val_loss: 17.9616\n",
      "Epoch 5/100\n",
      "64/64 [==============================] - 0s 4ms/step - loss: 19.9934 - val_loss: 17.7358\n",
      "Epoch 6/100\n",
      "64/64 [==============================] - 0s 3ms/step - loss: 19.9625 - val_loss: 17.7378\n",
      "Epoch 7/100\n",
      "64/64 [==============================] - 0s 5ms/step - loss: 19.9533 - val_loss: 17.6787\n",
      "Epoch 8/100\n",
      "64/64 [==============================] - 0s 4ms/step - loss: 19.9619 - val_loss: 17.7384\n",
      "Epoch 9/100\n",
      "64/64 [==============================] - 0s 5ms/step - loss: 19.9572 - val_loss: 17.7067\n",
      "Epoch 10/100\n",
      "64/64 [==============================] - 0s 4ms/step - loss: 19.9598 - val_loss: 17.6745\n",
      "Epoch 11/100\n",
      "64/64 [==============================] - 0s 4ms/step - loss: 19.9570 - val_loss: 17.7179\n",
      "Epoch 12/100\n",
      "64/64 [==============================] - 0s 4ms/step - loss: 19.9722 - val_loss: 17.7604\n",
      "Epoch 13/100\n",
      "64/64 [==============================] - 0s 4ms/step - loss: 19.9584 - val_loss: 17.7266\n",
      "Epoch 14/100\n",
      "64/64 [==============================] - 0s 4ms/step - loss: 19.9767 - val_loss: 17.7507\n",
      "Epoch 15/100\n",
      "64/64 [==============================] - 0s 4ms/step - loss: 19.9640 - val_loss: 17.7359\n",
      "Epoch 16/100\n",
      "64/64 [==============================] - 0s 4ms/step - loss: 19.9567 - val_loss: 17.7096\n",
      "Epoch 17/100\n",
      "64/64 [==============================] - 0s 4ms/step - loss: 19.9598 - val_loss: 17.8591\n",
      "Epoch 18/100\n",
      "64/64 [==============================] - 0s 4ms/step - loss: 19.9641 - val_loss: 17.7399\n",
      "Epoch 19/100\n",
      "64/64 [==============================] - 0s 4ms/step - loss: 19.9562 - val_loss: 17.7160\n",
      "Epoch 20/100\n",
      "64/64 [==============================] - 0s 4ms/step - loss: 19.9603 - val_loss: 17.7140\n"
     ]
    }
   ],
   "source": [
    "model.compile(optimizer='adam', loss='mean_squared_error')\n",
    "\n",
    "early_stopping = EarlyStopping(monitor='val_loss', patience=10, restore_best_weights=True)\n",
    "checkpoint = ModelCheckpoint('model.h5', monitor='val_loss', save_best_only=True)\n",
    "\n",
    "history = model.fit(X_train, y_train, validation_data=(X_val, y_val), epochs=100, batch_size=32,\n",
    "                    callbacks=[early_stopping, checkpoint])"
   ]
  },
  {
   "cell_type": "markdown",
   "id": "d95ec915",
   "metadata": {},
   "source": [
    "4. Evaluate the model"
   ]
  },
  {
   "cell_type": "code",
   "execution_count": 7,
   "id": "61ddd145",
   "metadata": {},
   "outputs": [
    {
     "name": "stdout",
     "output_type": "stream",
     "text": [
      "20/20 [==============================] - 0s 2ms/step - loss: 18.1361\n",
      "Test loss: 18.136072158813477\n"
     ]
    }
   ],
   "source": [
    "loss = model.evaluate(X_test, y_test)\n",
    "print('Test loss:', loss)"
   ]
  },
  {
   "cell_type": "markdown",
   "id": "31c82533",
   "metadata": {},
   "source": [
    "5. Save the model"
   ]
  },
  {
   "cell_type": "code",
   "execution_count": 8,
   "id": "bd65f47f",
   "metadata": {},
   "outputs": [],
   "source": [
    "model.save('global_temp_model.h5')"
   ]
  },
  {
   "cell_type": "markdown",
   "id": "a8595ebd",
   "metadata": {},
   "source": []
  }
 ],
 "metadata": {
  "kernelspec": {
   "display_name": "Python 3 (ipykernel)",
   "language": "python",
   "name": "python3"
  },
  "language_info": {
   "codemirror_mode": {
    "name": "ipython",
    "version": 3
   },
   "file_extension": ".py",
   "mimetype": "text/x-python",
   "name": "python",
   "nbconvert_exporter": "python",
   "pygments_lexer": "ipython3",
   "version": "3.10.9"
  }
 },
 "nbformat": 4,
 "nbformat_minor": 5
}
