{
 "cells": [
  {
   "cell_type": "markdown",
   "id": "37fae35d",
   "metadata": {},
   "source": [
    "# Deep Learning Final - CNN"
   ]
  },
  {
   "cell_type": "markdown",
   "id": "e3697e21",
   "metadata": {},
   "source": [
    "##### -Sela Koshy"
   ]
  },
  {
   "cell_type": "markdown",
   "id": "8ab0e414",
   "metadata": {},
   "source": [
    "0. Add required packages"
   ]
  },
  {
   "cell_type": "code",
   "execution_count": 1,
   "id": "c82357d3",
   "metadata": {},
   "outputs": [],
   "source": [
    "import tensorflow as tf\n",
    "from tensorflow import keras\n",
    "from tensorflow.keras import layers\n",
    "import numpy as np\n",
    "import os\n",
    "from tensorflow.keras.preprocessing.image import ImageDataGenerator\n",
    "\n",
    "# introduce possibility for reproducibility\n",
    "tf.random.set_seed(42)\n",
    "np.random.seed(42)"
   ]
  },
  {
   "cell_type": "markdown",
   "id": "283a9054",
   "metadata": {},
   "source": [
    "1. Load and process the dataset"
   ]
  },
  {
   "cell_type": "code",
   "execution_count": 2,
   "id": "db6422c1",
   "metadata": {},
   "outputs": [
    {
     "name": "stdout",
     "output_type": "stream",
     "text": [
      "Found 739 images belonging to 2 classes.\n",
      "Found 184 images belonging to 2 classes.\n"
     ]
    }
   ],
   "source": [
    "data_dir = \"C:/Users/selag/Downloads/DL/Final Project/Corals\"\n",
    "\n",
    "datagen = ImageDataGenerator(rescale=1.0 / 255.0, validation_split=0.2)\n",
    "\n",
    "train_generator = datagen.flow_from_directory(data_dir, target_size=(128, 128), batch_size=32, class_mode='binary', subset='training')\n",
    "\n",
    "val_generator = datagen.flow_from_directory(data_dir, target_size=(128, 128), batch_size=32, class_mode='binary', subset='validation')"
   ]
  },
  {
   "cell_type": "markdown",
   "id": "4064efe4",
   "metadata": {},
   "source": [
    "2. Define model architecture"
   ]
  },
  {
   "cell_type": "code",
   "execution_count": 3,
   "id": "ac662a44",
   "metadata": {},
   "outputs": [],
   "source": [
    "model = keras.Sequential([\n",
    "    layers.Conv2D(32, (3, 3), activation='relu', input_shape=(128, 128, 3)),\n",
    "    layers.MaxPooling2D((2, 2)),\n",
    "    layers.Conv2D(64, (3, 3), activation='relu'),\n",
    "    layers.MaxPooling2D((2, 2)),\n",
    "    layers.Conv2D(128, (3, 3), activation='relu'),\n",
    "    layers.MaxPooling2D((2, 2)),\n",
    "    layers.Flatten(),\n",
    "    layers.Dense(64, activation='relu'),\n",
    "    layers.Dense(1, activation='sigmoid')\n",
    "])"
   ]
  },
  {
   "cell_type": "markdown",
   "id": "fad0caf5",
   "metadata": {},
   "source": [
    "3. Compile model, then train model"
   ]
  },
  {
   "cell_type": "code",
   "execution_count": 4,
   "id": "122d74e5",
   "metadata": {},
   "outputs": [
    {
     "name": "stdout",
     "output_type": "stream",
     "text": [
      "Epoch 1/10\n",
      "24/24 [==============================] - 23s 879ms/step - loss: 0.7371 - accuracy: 0.5453 - val_loss: 0.7489 - val_accuracy: 0.4946\n",
      "Epoch 2/10\n",
      "24/24 [==============================] - 20s 823ms/step - loss: 0.6292 - accuracy: 0.6441 - val_loss: 0.6672 - val_accuracy: 0.5543\n",
      "Epoch 3/10\n",
      "24/24 [==============================] - 22s 923ms/step - loss: 0.5841 - accuracy: 0.6928 - val_loss: 0.6567 - val_accuracy: 0.5652\n",
      "Epoch 4/10\n",
      "24/24 [==============================] - 21s 875ms/step - loss: 0.5478 - accuracy: 0.7321 - val_loss: 0.8440 - val_accuracy: 0.5870\n",
      "Epoch 5/10\n",
      "24/24 [==============================] - 20s 846ms/step - loss: 0.6067 - accuracy: 0.6820 - val_loss: 0.6108 - val_accuracy: 0.6141\n",
      "Epoch 6/10\n",
      "24/24 [==============================] - 22s 896ms/step - loss: 0.5336 - accuracy: 0.7212 - val_loss: 0.5765 - val_accuracy: 0.7283\n",
      "Epoch 7/10\n",
      "24/24 [==============================] - 24s 1s/step - loss: 0.5072 - accuracy: 0.7402 - val_loss: 0.5816 - val_accuracy: 0.6522\n",
      "Epoch 8/10\n",
      "24/24 [==============================] - 21s 853ms/step - loss: 0.4544 - accuracy: 0.7510 - val_loss: 0.6445 - val_accuracy: 0.6467\n",
      "Epoch 9/10\n",
      "24/24 [==============================] - 20s 831ms/step - loss: 0.4592 - accuracy: 0.7591 - val_loss: 0.6300 - val_accuracy: 0.6304\n",
      "Epoch 10/10\n",
      "24/24 [==============================] - 20s 848ms/step - loss: 0.4059 - accuracy: 0.8065 - val_loss: 0.6481 - val_accuracy: 0.6576\n"
     ]
    }
   ],
   "source": [
    "model.compile(optimizer='adam', loss='binary_crossentropy', metrics=['accuracy'])\n",
    "\n",
    "epochs = 10\n",
    "history = model.fit(train_generator, validation_data=val_generator, epochs=epochs)"
   ]
  },
  {
   "cell_type": "markdown",
   "id": "88f4d57f",
   "metadata": {},
   "source": [
    "4.0 Process the test set"
   ]
  },
  {
   "cell_type": "code",
   "execution_count": 5,
   "id": "619581f5",
   "metadata": {},
   "outputs": [
    {
     "name": "stdout",
     "output_type": "stream",
     "text": [
      "Found 184 images belonging to 2 classes.\n"
     ]
    }
   ],
   "source": [
    "test_generator = datagen.flow_from_directory(\n",
    "    data_dir,\n",
    "    target_size=(128, 128),\n",
    "    batch_size=32,\n",
    "    class_mode='binary',\n",
    "    shuffle=False,\n",
    "    subset='validation'\n",
    ")"
   ]
  },
  {
   "cell_type": "markdown",
   "id": "699a7e5e",
   "metadata": {},
   "source": [
    "4.1 Evaluate the model"
   ]
  },
  {
   "cell_type": "code",
   "execution_count": 6,
   "id": "99fe7ca9",
   "metadata": {},
   "outputs": [
    {
     "name": "stdout",
     "output_type": "stream",
     "text": [
      "6/6 [==============================] - 2s 257ms/step - loss: 0.6481 - accuracy: 0.6576\n",
      "Test Loss: 0.6481483578681946\n",
      "Test Accuracy: 0.657608687877655\n"
     ]
    }
   ],
   "source": [
    "test_loss, test_accuracy = model.evaluate(test_generator)\n",
    "\n",
    "print(\"Test Loss:\", test_loss)\n",
    "print(\"Test Accuracy:\", test_accuracy)"
   ]
  },
  {
   "cell_type": "markdown",
   "id": "fb88f71a",
   "metadata": {},
   "source": [
    "5. Save the model"
   ]
  },
  {
   "cell_type": "code",
   "execution_count": 7,
   "id": "74c7bf29",
   "metadata": {},
   "outputs": [],
   "source": [
    "model.save('corals_model.h5')"
   ]
  },
  {
   "cell_type": "markdown",
   "id": "4f4c27a3",
   "metadata": {},
   "source": []
  }
 ],
 "metadata": {
  "kernelspec": {
   "display_name": "Python 3 (ipykernel)",
   "language": "python",
   "name": "python3"
  },
  "language_info": {
   "codemirror_mode": {
    "name": "ipython",
    "version": 3
   },
   "file_extension": ".py",
   "mimetype": "text/x-python",
   "name": "python",
   "nbconvert_exporter": "python",
   "pygments_lexer": "ipython3",
   "version": "3.10.9"
  }
 },
 "nbformat": 4,
 "nbformat_minor": 5
}
