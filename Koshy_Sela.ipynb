{
 "cells": [
  {
   "cell_type": "markdown",
   "id": "8475d034",
   "metadata": {},
   "source": [
    "# Deep Learning Mid Term Basics"
   ]
  },
  {
   "cell_type": "markdown",
   "id": "f3ec62d2",
   "metadata": {},
   "source": [
    "##### -Sela Koshy"
   ]
  },
  {
   "cell_type": "markdown",
   "id": "8fe574f3",
   "metadata": {},
   "source": [
    "0. Add required packages"
   ]
  },
  {
   "cell_type": "code",
   "execution_count": 1,
   "id": "dbdc4723",
   "metadata": {},
   "outputs": [],
   "source": [
    "import numpy as np\n",
    "import pandas as pd\n",
    "from sklearn.model_selection import train_test_split\n",
    "from sklearn.preprocessing import StandardScaler\n",
    "from sklearn.metrics import accuracy_score\n",
    "import tensorflow as tf\n",
    "from tensorflow.keras.models import Sequential\n",
    "from tensorflow.keras.layers import Dense, Dropout\n",
    "from tensorflow.keras.callbacks import EarlyStopping\n",
    "from tensorflow.keras import regularizers"
   ]
  },
  {
   "cell_type": "markdown",
   "id": "68b29f25",
   "metadata": {},
   "source": [
    "1. Load data, split data"
   ]
  },
  {
   "cell_type": "code",
   "execution_count": 2,
   "id": "1bb80e15",
   "metadata": {},
   "outputs": [],
   "source": [
    "heart_data = pd.read_csv('heart.csv')\n",
    "x = heart_data.drop('output', axis=1)\n",
    "y = heart_data['output']"
   ]
  },
  {
   "cell_type": "markdown",
   "id": "20417596",
   "metadata": {},
   "source": [
    "a. Classification task:"
   ]
  },
  {
   "cell_type": "code",
   "execution_count": 3,
   "id": "267cdfe5",
   "metadata": {},
   "outputs": [],
   "source": [
    "train_x, test_x, train_y, test_y = train_test_split(x, y, test_size=0.2, random_state=42, stratify=y)"
   ]
  },
  {
   "cell_type": "markdown",
   "id": "4f216142",
   "metadata": {},
   "source": [
    "b. Regression task:"
   ]
  },
  {
   "cell_type": "code",
   "execution_count": 4,
   "id": "2cc08786",
   "metadata": {},
   "outputs": [],
   "source": [
    "train_x, test_x, train_y, test_y = train_test_split(x, y, test_size=0.2, random_state=42)"
   ]
  },
  {
   "cell_type": "markdown",
   "id": "14c9fc04",
   "metadata": {},
   "source": [
    "2. Preprocess the data"
   ]
  },
  {
   "cell_type": "code",
   "execution_count": 5,
   "id": "31684659",
   "metadata": {},
   "outputs": [],
   "source": [
    "scaler = StandardScaler()\n",
    "train_x = scaler.fit_transform(train_x)\n",
    "test_x = scaler.transform(test_x)"
   ]
  },
  {
   "cell_type": "markdown",
   "id": "f0fee682",
   "metadata": {},
   "source": [
    "3. Defined the model architecture"
   ]
  },
  {
   "cell_type": "code",
   "execution_count": 6,
   "id": "7a07a5f5",
   "metadata": {},
   "outputs": [],
   "source": [
    "model = Sequential()\n",
    "model.add(Dense(32, activation='relu', kernel_initializer='he_uniform', input_shape=(train_x.shape[1],)))\n",
    "model.add(Dense(16, activation='relu', kernel_initializer='he_uniform'))\n",
    "model.add(Dropout(0.2))\n",
    "model.add(Dense(1, activation='sigmoid'))"
   ]
  },
  {
   "cell_type": "markdown",
   "id": "c01cb760",
   "metadata": {},
   "source": [
    "4. Compile model, then train model"
   ]
  },
  {
   "cell_type": "code",
   "execution_count": 7,
   "id": "1ecee248",
   "metadata": {},
   "outputs": [
    {
     "name": "stdout",
     "output_type": "stream",
     "text": [
      "Epoch 1/100\n",
      "8/8 [==============================] - 2s 45ms/step - loss: 0.8525 - accuracy: 0.4380 - val_loss: 0.7692 - val_accuracy: 0.4918\n",
      "Epoch 2/100\n",
      "8/8 [==============================] - 0s 8ms/step - loss: 0.7705 - accuracy: 0.5124 - val_loss: 0.7037 - val_accuracy: 0.5082\n",
      "Epoch 3/100\n",
      "8/8 [==============================] - 0s 9ms/step - loss: 0.7061 - accuracy: 0.5661 - val_loss: 0.6493 - val_accuracy: 0.5574\n",
      "Epoch 4/100\n",
      "8/8 [==============================] - 0s 7ms/step - loss: 0.6712 - accuracy: 0.5950 - val_loss: 0.6041 - val_accuracy: 0.6066\n",
      "Epoch 5/100\n",
      "8/8 [==============================] - 0s 7ms/step - loss: 0.6098 - accuracy: 0.6529 - val_loss: 0.5717 - val_accuracy: 0.7049\n",
      "Epoch 6/100\n",
      "8/8 [==============================] - 0s 9ms/step - loss: 0.6145 - accuracy: 0.6777 - val_loss: 0.5461 - val_accuracy: 0.7377\n",
      "Epoch 7/100\n",
      "8/8 [==============================] - 0s 7ms/step - loss: 0.5624 - accuracy: 0.6818 - val_loss: 0.5263 - val_accuracy: 0.7541\n",
      "Epoch 8/100\n",
      "8/8 [==============================] - 0s 8ms/step - loss: 0.5501 - accuracy: 0.7479 - val_loss: 0.5095 - val_accuracy: 0.8033\n",
      "Epoch 9/100\n",
      "8/8 [==============================] - 0s 8ms/step - loss: 0.5472 - accuracy: 0.7231 - val_loss: 0.4944 - val_accuracy: 0.8197\n",
      "Epoch 10/100\n",
      "8/8 [==============================] - 0s 8ms/step - loss: 0.5198 - accuracy: 0.7562 - val_loss: 0.4829 - val_accuracy: 0.8197\n",
      "Epoch 11/100\n",
      "8/8 [==============================] - 0s 7ms/step - loss: 0.5053 - accuracy: 0.7521 - val_loss: 0.4735 - val_accuracy: 0.8197\n",
      "Epoch 12/100\n",
      "8/8 [==============================] - 0s 7ms/step - loss: 0.4876 - accuracy: 0.7521 - val_loss: 0.4645 - val_accuracy: 0.8361\n",
      "Epoch 13/100\n",
      "8/8 [==============================] - 0s 12ms/step - loss: 0.4679 - accuracy: 0.7934 - val_loss: 0.4566 - val_accuracy: 0.8525\n",
      "Epoch 14/100\n",
      "8/8 [==============================] - 0s 11ms/step - loss: 0.4418 - accuracy: 0.8140 - val_loss: 0.4488 - val_accuracy: 0.8525\n",
      "Epoch 15/100\n",
      "8/8 [==============================] - 0s 12ms/step - loss: 0.4655 - accuracy: 0.7810 - val_loss: 0.4428 - val_accuracy: 0.8525\n",
      "Epoch 16/100\n",
      "8/8 [==============================] - 0s 12ms/step - loss: 0.4463 - accuracy: 0.7851 - val_loss: 0.4366 - val_accuracy: 0.8525\n",
      "Epoch 17/100\n",
      "8/8 [==============================] - 0s 11ms/step - loss: 0.4389 - accuracy: 0.7769 - val_loss: 0.4309 - val_accuracy: 0.8525\n",
      "Epoch 18/100\n",
      "8/8 [==============================] - 0s 12ms/step - loss: 0.4265 - accuracy: 0.7934 - val_loss: 0.4296 - val_accuracy: 0.8689\n",
      "Epoch 19/100\n",
      "8/8 [==============================] - 0s 12ms/step - loss: 0.4302 - accuracy: 0.7975 - val_loss: 0.4279 - val_accuracy: 0.8689\n",
      "Epoch 20/100\n",
      "8/8 [==============================] - 0s 11ms/step - loss: 0.4001 - accuracy: 0.8099 - val_loss: 0.4285 - val_accuracy: 0.8689\n",
      "Epoch 21/100\n",
      "8/8 [==============================] - 0s 13ms/step - loss: 0.4202 - accuracy: 0.7934 - val_loss: 0.4279 - val_accuracy: 0.8689\n",
      "Epoch 22/100\n",
      "8/8 [==============================] - 0s 12ms/step - loss: 0.3827 - accuracy: 0.8388 - val_loss: 0.4259 - val_accuracy: 0.8689\n",
      "Epoch 23/100\n",
      "8/8 [==============================] - 0s 12ms/step - loss: 0.3928 - accuracy: 0.7975 - val_loss: 0.4249 - val_accuracy: 0.8689\n",
      "Epoch 24/100\n",
      "8/8 [==============================] - 0s 21ms/step - loss: 0.3751 - accuracy: 0.8430 - val_loss: 0.4235 - val_accuracy: 0.8689\n",
      "Epoch 25/100\n",
      "8/8 [==============================] - 0s 13ms/step - loss: 0.3701 - accuracy: 0.8099 - val_loss: 0.4219 - val_accuracy: 0.8689\n",
      "Epoch 26/100\n",
      "8/8 [==============================] - 0s 13ms/step - loss: 0.3891 - accuracy: 0.8182 - val_loss: 0.4204 - val_accuracy: 0.8689\n",
      "Epoch 27/100\n",
      "8/8 [==============================] - 0s 13ms/step - loss: 0.3706 - accuracy: 0.8306 - val_loss: 0.4220 - val_accuracy: 0.8689\n",
      "Epoch 28/100\n",
      "8/8 [==============================] - 0s 12ms/step - loss: 0.3497 - accuracy: 0.8554 - val_loss: 0.4244 - val_accuracy: 0.8689\n",
      "Epoch 29/100\n",
      "8/8 [==============================] - 0s 13ms/step - loss: 0.3618 - accuracy: 0.8430 - val_loss: 0.4264 - val_accuracy: 0.8689\n",
      "Epoch 30/100\n",
      "8/8 [==============================] - 0s 13ms/step - loss: 0.3582 - accuracy: 0.8595 - val_loss: 0.4283 - val_accuracy: 0.8689\n",
      "Epoch 31/100\n",
      "8/8 [==============================] - 0s 15ms/step - loss: 0.3229 - accuracy: 0.8636 - val_loss: 0.4300 - val_accuracy: 0.8689\n"
     ]
    }
   ],
   "source": [
    "model.compile(loss='binary_crossentropy', optimizer='adam', metrics=['accuracy'])\n",
    "\n",
    "early_stopping = EarlyStopping(patience=5, restore_best_weights=True)\n",
    "\n",
    "history = model.fit(train_x, train_y, validation_data=(test_x, test_y), batch_size=32, epochs=100, callbacks=[early_stopping])"
   ]
  },
  {
   "cell_type": "markdown",
   "id": "9e186514",
   "metadata": {},
   "source": [
    "5. Evaluate the model"
   ]
  },
  {
   "cell_type": "code",
   "execution_count": 8,
   "id": "45f823d3",
   "metadata": {},
   "outputs": [
    {
     "name": "stdout",
     "output_type": "stream",
     "text": [
      "2/2 [==============================] - 0s 8ms/step - loss: 0.4204 - accuracy: 0.8689\n",
      "Accuracy: 0.868852436542511\n"
     ]
    }
   ],
   "source": [
    "# Step 5: Evaluate the model\n",
    "_, accuracy = model.evaluate(test_x, test_y)\n",
    "print('Accuracy:', accuracy)"
   ]
  },
  {
   "cell_type": "markdown",
   "id": "7ca0c2d8",
   "metadata": {},
   "source": [
    "6. Save model"
   ]
  },
  {
   "cell_type": "code",
   "execution_count": 9,
   "id": "3c32c6cc",
   "metadata": {},
   "outputs": [],
   "source": [
    "model.save('heart_model.h5')"
   ]
  },
  {
   "cell_type": "markdown",
   "id": "5c372597",
   "metadata": {},
   "source": []
  }
 ],
 "metadata": {
  "kernelspec": {
   "display_name": "Python 3 (ipykernel)",
   "language": "python",
   "name": "python3"
  },
  "language_info": {
   "codemirror_mode": {
    "name": "ipython",
    "version": 3
   },
   "file_extension": ".py",
   "mimetype": "text/x-python",
   "name": "python",
   "nbconvert_exporter": "python",
   "pygments_lexer": "ipython3",
   "version": "3.10.9"
  }
 },
 "nbformat": 4,
 "nbformat_minor": 5
}
